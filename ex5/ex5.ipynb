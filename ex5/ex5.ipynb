{
 "cells": [
  {
   "cell_type": "markdown",
   "metadata": {},
   "source": [
    "# 課題5 テキストデータ分析\n",
    "配点\n",
    "- Q1, 1P\n",
    "- Q2.1, 0.5P\n",
    "- Q2.2, 0.5P\n",
    "- Q2.3, 1P\n",
    "- Q3.1, 1P\n",
    "- Q3.2, 2P\n",
    "- Q3.3, 2P\n",
    "- Q4, 2P\n",
    "## Q1\n",
    "\n",
    "$n$-次元ベクトル空間における、任意の2つのベクトル、$ \\vec{x}=(x_1,x_2,...,x_n)$、$\\vec{y}=(y_1,y_2,...,y_n)$、の間のcos類似度 $cos(X,Y)$ は以下のように定義されます。\n",
    "\n",
    "$cos(X,Y) =  \\frac{\\vec{x}\\cdot \\vec{y}}{\\|x\\|_2\\|y\\|_2}=\\frac{\\Sigma^{n}_{i=1}{x_{i}y_{i}}}{\\sqrt{\\Sigma^{n}_{i=1}x_{i}^{2}}\\sqrt{\\Sigma^{n}_{i=1}y_{i}^{2}}}$\n",
    "\n",
    "入力ベクトル $\\vec{x}$, $\\vec{y}$ をそれぞれ`NumPy` の配列として引数で受け取り、それらのベクトル間のcos類似度を計算して返す関数 `cos_sim` を完成させてください。"
   ]
  },
  {
   "cell_type": "code",
   "execution_count": null,
   "metadata": {},
   "outputs": [],
   "source": [
    "import numpy as np"
   ]
  },
  {
   "cell_type": "code",
   "execution_count": null,
   "metadata": {},
   "outputs": [],
   "source": [
    "def cos_sim(vec1, vec2):\n",
    "    return ### 2つの配列vec1とvec2のcos類似度を計算するコード ###"
   ]
  },
  {
   "cell_type": "markdown",
   "metadata": {},
   "source": [
    "`cos_sim()`関数が完成したら、以下のセルを実行して動作を確認してください。`-1.0, 1.0, 0.0`がそれぞれのcos類似度です。"
   ]
  },
  {
   "cell_type": "code",
   "execution_count": null,
   "metadata": {},
   "outputs": [],
   "source": [
    "print(cos_sim(np.array([1,0]), np.array([-1,0])))\n",
    "print(cos_sim(np.array([1,0]), np.array([1,0])))\n",
    "print(cos_sim(np.array([1,0]), np.array([0,-1])))"
   ]
  },
  {
   "cell_type": "markdown",
   "metadata": {},
   "source": [
    "## Q2\n",
    "\"course_list.csv\"ファイルには以下のように各行に講義名のテキストデータが含まれています。以下では、このファイルを読み込み、各講義のベクトルを作成し、講義間の類似度を求めるコードを実装します。\n",
    "```Python\n",
    "## course_list.csvファイル\n",
    "...\n",
    "数理科学基礎\n",
    "物性化学\n",
    "政治Ⅰ\n",
    "身体運動・健康科学実習Ⅰ（ﾒﾃﾞｨｶﾙｹｱ1）\n",
    "スペイン語テクスト分析Ⅰ\n",
    "英語二列Ｗ（ALESS）\n",
    "応用倫理学\n",
    "...\n",
    "```\n",
    "まず必要なモジュールをimportします。"
   ]
  },
  {
   "cell_type": "code",
   "execution_count": null,
   "metadata": {},
   "outputs": [],
   "source": [
    "import json\n",
    "import csv\n",
    "import numpy as np\n",
    "import pandas as pd"
   ]
  },
  {
   "cell_type": "markdown",
   "metadata": {},
   "source": [
    "### Q2.1\n",
    "\"course_list.csv\"ファイルを1行ずつ**順番に**読み込み、その各行を要素とするリストを作成して返す`course_list`関数を完成さてください。作成されたリストは変数`courses`で受け取ります。以降の処理では、リスト`courses`のインデックスをその要素（講義名）のIDとして扱います。\n"
   ]
  },
  {
   "cell_type": "code",
   "execution_count": null,
   "metadata": {},
   "outputs": [],
   "source": [
    "def course_list():\n",
    "    ### 'course_list.csv'ファイルを読み込み、各行をリストに追加していくコード ###\n",
    "    return ### 上記で作成したリストを返す ###\n",
    "courses = course_list()"
   ]
  },
  {
   "cell_type": "markdown",
   "metadata": {},
   "source": [
    "`course_list`関数が完成したら、以下のセルを実行して動作を確認してください。リストの長さ（講義の数）は`552`、講義\"計算機プログラミング\n",
    "\"のID（リスト`courses`のインデックス）は`198`となります。"
   ]
  },
  {
   "cell_type": "code",
   "execution_count": null,
   "metadata": {},
   "outputs": [],
   "source": [
    "print(len(courses))\n",
    "print(courses.index('プログラミング基礎'))"
   ]
  },
  {
   "cell_type": "markdown",
   "metadata": {},
   "source": [
    "### Q2.2\n",
    "\"keyword_list.csv\"ファイルには以下のように各行に1単語が含まれています。\n",
    "```Python\n",
    "## keyword_list.csvファイル\n",
    "...\n",
    "外国語\n",
    "日本語\n",
    "力学\n",
    "身体運動\n",
    "微分積分学\n",
    "ロシア語\n",
    "熱力学\n",
    "線型代数学\n",
    "イタリア語\n",
    "物性\n",
    "...\n",
    "```\n",
    "\"keywor_list.csv\"ファイルを1行ずつ**順番に**読み込み、その各行を要素とするリストを作成して返す`vocab_list`関数を完成さてください。作成されたリストは変数`vocab`で受け取ります。以降の処理では、リスト`vocab`のインデックスをその要素（単語）のIDとして扱います。リスト`vocab`は以降の処理における語彙となります。"
   ]
  },
  {
   "cell_type": "code",
   "execution_count": null,
   "metadata": {},
   "outputs": [],
   "source": [
    "def vocab_list():\n",
    "    ### 'keyword_list.csv'ファイルを読み込み、各行をリストに追加していくコード ###\n",
    "    return ### 上記で作成したリストを返す ###\n",
    "vocab = vocab_list()"
   ]
  },
  {
   "cell_type": "markdown",
   "metadata": {},
   "source": [
    "`vocab_list`関数が完成したら、以下のセルを実行して動作を確認してください。リストの長さ（単語の数）は`243`、単語\"プログラミング\"のID（リスト`vocab`のインデックス）は`145`、単語\"英語\"のID（リスト`vocab`のインデックス）は`0`となります。"
   ]
  },
  {
   "cell_type": "code",
   "execution_count": null,
   "metadata": {},
   "outputs": [],
   "source": [
    "print(len(vocab))\n",
    "print(vocab.index('プログラミング'))\n",
    "print(vocab.index('英語'))"
   ]
  },
  {
   "cell_type": "markdown",
   "metadata": {},
   "source": [
    "### Q2.3\n",
    "リスト`courses`と`vocab`を引数で受け取り、単語のID（リスト`vocab`のその単語のインデックス）をキー、その単語のDF（Document Frequency)を値とする辞書を作成して返す`count_df`関数を作成してください。作成された辞書は変数`df`で受け取ります。この場合、ある単語のDFはその単語を講義名に含む講義数に対応します。"
   ]
  },
  {
   "cell_type": "code",
   "execution_count": null,
   "metadata": {},
   "outputs": [],
   "source": [
    "def count_df(arg1, arg2):\n",
    "    ### 引数：\n",
    "    # arg1 : 講義リスト\n",
    "    # arg2: 単語リスト\n",
    "    \n",
    "    ###  単語のIDをキー、その単語のDF（Document Frequency)を値とする辞書を作成するコード ###\n",
    "  \n",
    "    return ### 上記で作成した辞書を返す ###\n",
    "\n",
    "df = count_df(courses, vocab)"
   ]
  },
  {
   "cell_type": "markdown",
   "metadata": {},
   "source": [
    "`count_df`関数が完成したら、以下のセルを実行して動作を確認してください。辞書の長さは`243`、単語\"プログラミング\"（IDは`145`）のDFは`2`、単語\"英語\"（IDは`0`）のDFは`12`となります。"
   ]
  },
  {
   "cell_type": "code",
   "execution_count": null,
   "metadata": {},
   "outputs": [],
   "source": [
    "print(len(df))\n",
    "print(vocab.index('プログラミング'), df[vocab.index('プログラミング')])\n",
    "print(vocab.index('英語'), df[vocab.index('英語')])"
   ]
  },
  {
   "cell_type": "markdown",
   "metadata": {},
   "source": [
    "## Q3\n",
    "### Q3.1\n",
    "リスト`vocab`の各単語を次元とする講義ベクトルを考えます。講義ベクトルの長さはリスト`vocab`の長さと等しく、リスト`vocab`のインデックス`i`の単語`vocab[i]`が講義名に含まれる時、講義ベクトルの`i`番目の要素は`1`、含まれなければ`0`とします。\n",
    "\n",
    "以下では、リスト`courses`と`vocab`を引数で受け取り、リスト`courses`の各講義のベクトルを行、リスト`vocab`の各単語を列とした`NumPy`の行列を作成して返す`lec_word_matrix`関数を完成させてください。作成した講義-単語行列は、講義（行）の講義名に単語（列）が含まれていれば、その要素が1であるような行列です。"
   ]
  },
  {
   "cell_type": "code",
   "execution_count": null,
   "metadata": {},
   "outputs": [],
   "source": [
    "def lec_word_matrix(arg1, arg2)\n",
    "    ### 引数：\n",
    "    # arg1 : 講義リスト\n",
    "    # arg2: 単語リスト\n",
    "    \n",
    "    ### (講義数, 単語数)の行列lec_wordを初期化するコード （ヒント np.zeros()) ###\n",
    "    ### 講義名arg1[i]が単語arg2[j]を含んでいれば lec_word[i,j]=1とする処理のコード ###\n",
    "\n",
    "    return ### 上記で作成した行列を返す ###"
   ]
  },
  {
   "cell_type": "markdown",
   "metadata": {},
   "source": [
    "`lec_word_matrix`関数が完成したら、以下のセルを実行して動作を確認してください。作成した講義-単語行列の要素の値の和は`2287`となります。"
   ]
  },
  {
   "cell_type": "code",
   "execution_count": null,
   "metadata": {},
   "outputs": [],
   "source": [
    "np.sum(lec_word_matrix(courses, vocab))"
   ]
  },
  {
   "cell_type": "markdown",
   "metadata": {},
   "source": [
    "### Q3.2\n",
    "Q3.1で作成した講義-単語行列の各要素を、その講義の講義名に単語が含まれるか否かの1or0ではなく、その講義の講義名に単語が何回含まれるか（TF: Term Frequency)で表した行列を作成して返す`lec_word_tf_matrix`関数を完成させてください。"
   ]
  },
  {
   "cell_type": "code",
   "execution_count": null,
   "metadata": {},
   "outputs": [],
   "source": [
    "def lec_word_tf_matrix(arg, arg2)\n",
    "    ### 引数：\n",
    "    # arg1 : 講義リスト\n",
    "    # arg2: 単語リスト\n",
    "    \n",
    "    ### (講義数, 単語数)の行列lec_wordを初期化するコード （ヒント np.zeros()) ###\n",
    "    ###  lec_word[i,j]=\"講義名arg1[i]に単語arg2[j]が含まれる数\"、とする処理のコード ###\n",
    "\n",
    "    return ### 上記で作成した行列を返す ###"
   ]
  },
  {
   "cell_type": "markdown",
   "metadata": {},
   "source": [
    "`lec_word_tf_matrix`関数が完成したら、以下のセルを実行して動作を確認してください。作成した講義-単語行列の要素の値の和は`2366`となります。"
   ]
  },
  {
   "cell_type": "code",
   "execution_count": null,
   "metadata": {},
   "outputs": [],
   "source": [
    "np.sum(lec_word_tf_matrix(courses, vocab))"
   ]
  },
  {
   "cell_type": "markdown",
   "metadata": {},
   "source": [
    "講義「自然科学ゼミナール（情報科学）」には「科学」が2回含まれるので対応する行列の要素の値は2となります。"
   ]
  },
  {
   "cell_type": "code",
   "execution_count": null,
   "metadata": {},
   "outputs": [],
   "source": [
    "lec_word_tf_matrix(courses, vocab)[courses.index('自然科学ゼミナール（情報科学）'), vocab.index('科学')]"
   ]
  },
  {
   "cell_type": "markdown",
   "metadata": {},
   "source": [
    "### Q3.3\n",
    "Q3.2で作成した講義-単語行列の各要素（講義`i`の単語`j`の$TF_{ij}$）にその単語のIDF値を掛けたTFIDF値を要素とする行列を作成して返す`lec_word_tfidf_matrix`関数を完成させてください。作成した行列は変数`tfidf_matrix`で受け取ります。\n",
    "\n",
    "ここで、講義`i`、単語`j`のTFIDF値は以下のように定義されます。\n",
    "```Python\n",
    "TFIDF=TF_ij*log(すべての講義数/単語jのDF)=TF_ij*log(len(courses)/df[j])\n",
    "```\n",
    "`log`の計算には`np.log()`を使用してよいです。"
   ]
  },
  {
   "cell_type": "code",
   "execution_count": null,
   "metadata": {},
   "outputs": [],
   "source": [
    "def lec_word_tfidf_matrix(arg1, arg2, arg3):\n",
    "    ### 引数：\n",
    "    # arg1 : 講義リスト\n",
    "    # arg2: 単語リスト\n",
    "    # arg3: DF辞書\n",
    "    \n",
    "    ### (講義数, 単語数)の行列を初期化するコード （ヒント np.zeros()) ###\n",
    "    ###  lec_word[i,j]=\"講義名arg1[i]の単語arg2[j]のTFIDF値\"、とする処理のコード ###\n",
    "\n",
    "    return ### 上記で作成した行列を返す ###\n",
    "\n",
    "tfidf_matrix = lec_word_tfidf_matrix(courses, vocab, df)"
   ]
  },
  {
   "cell_type": "markdown",
   "metadata": {},
   "source": [
    "`lec_word_tfidf_matrix`関数が完成したら、以下のセルを実行して動作を確認してください。作成した講義-単語行列の要素の値の和の整数部分は`7274`となります。"
   ]
  },
  {
   "cell_type": "code",
   "execution_count": null,
   "metadata": {},
   "outputs": [],
   "source": [
    "np.sum(tfidf_matrix)"
   ]
  },
  {
   "cell_type": "markdown",
   "metadata": {},
   "source": [
    "講義「情報社会及び情報倫理」には「科学」が2回含まれ、「科学」のDF値は75なので対応する行列の要素の値は$2*log(552/75)\\simeq3.99$となります。"
   ]
  },
  {
   "cell_type": "code",
   "execution_count": null,
   "metadata": {},
   "outputs": [],
   "source": [
    "print(df[vocab.index('科学')])\n",
    "print(tfidf_matrix[courses.index('自然科学ゼミナール（情報科学）'), vocab.index('科学')])"
   ]
  },
  {
   "cell_type": "markdown",
   "metadata": {},
   "source": [
    "## Q4\n",
    "Q3.3で作成した講義-単語行列を元に、入力の講義に対してcos類似度に基づいて他のすべての講義との類似度を計算し、類似する講義名をキー、その類似度を値とした辞書を返す以下の`find_similar_course`関数を完成させてください。その際、入力の講義および類似度が0の講義は辞書に含めないようにしてください。cos類似度の計算にはQ1で作成した関数を使ってもよいです。"
   ]
  },
  {
   "cell_type": "code",
   "execution_count": null,
   "metadata": {},
   "outputs": [],
   "source": [
    "def find_similar_course(arg1, arg2, arg3):\n",
    "    ### 引数：\n",
    "    # arg1:  入力講義のID\n",
    "    # arg2: 講義-単語行列（TFIDF値)\n",
    "    # arg3: 講義リスト\n",
    "\n",
    "    ### 入力講義のベクトルarg2[arg1]と各講義iのベクトルarg2[i]の類似度を計算するコード ###\n",
    "\n",
    "    return ### 類似する講義名をキー、その類似度を値とする辞書を返す ###"
   ]
  },
  {
   "cell_type": "markdown",
   "metadata": {},
   "source": [
    "`find_similar_course`関数が完成したら、以下のセルを実行して動作を確認してください。入力の講義`自然科学ゼミナール（情報科学）`に類似した上位の講義は、`自然科学ゼミナール（生命科学）、生物情報科学、自然科学ゼミナール（数理科学）、自然現象とモデル、人類科学、...`となります。"
   ]
  },
  {
   "cell_type": "code",
   "execution_count": null,
   "metadata": {},
   "outputs": [],
   "source": [
    "title=\"自然科学ゼミナール（情報科学）\" # 入力の講義名\n",
    "\n",
    "results=find_similar_course(courses.index(title), tfidf_matrix, courses) # 類似講義の辞書を受け取る\n",
    "\n",
    "df=pd.DataFrame(list(results.items()), columns=['title', \"similarity\"]) # 類似度が上位の講義を表示\n",
    "df.sort_values(by='similarity', ascending=False).head(10)"
   ]
  }
 ],
 "metadata": {
  "kernelspec": {
   "display_name": "Python 3",
   "language": "python",
   "name": "python3"
  },
  "language_info": {
   "codemirror_mode": {
    "name": "ipython",
    "version": 3
   },
   "file_extension": ".py",
   "mimetype": "text/x-python",
   "name": "python",
   "nbconvert_exporter": "python",
   "pygments_lexer": "ipython3",
   "version": "3.7.3"
  }
 },
 "nbformat": 4,
 "nbformat_minor": 2
}
