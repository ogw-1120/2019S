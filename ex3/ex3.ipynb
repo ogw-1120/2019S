{
 "cells": [
  {
   "cell_type": "markdown",
   "metadata": {},
   "source": [
    "# 課題3"
   ]
  },
  {
   "cell_type": "markdown",
   "metadata": {},
   "source": [
    "課題1で用いた以下のような形式の\"SSDSE.csv\"ファイルを読み込み、都道府県名を引数`pref`として受け取り、その都道府県の市区町村の高齢化率の平均値、中央値、最大値、最小値、分散を要素とするリストを返す`aging_rate_stat`関数を完成させてください。なお、市区町村の高齢化率は人口総数（A1101）に占める65歳以上人口（A1303）の割合（%）で計算することとします。\n",
    "\n",
    "```Python\n",
    "## SSDSE.csvファイル\n",
    "code, prefecture, municipality, A1101,\tA110101, A110102, ...\n",
    "地域コード, 都道府県, 市区町村, 人口総数, 人口総数（男）, 人口総数（女）, ...\n",
    "R01100, 北海道, 札幌市, 1952356, 910614, 1041742\n",
    "R01202, 北海道, 函館市, 265979, 120376, 145603\n",
    "R01203, 北海道, 小樽市, 121924, 54985, 66939\n",
    "...\n",
    "```\n",
    "\n",
    "`pandas`モジュールでは、\"SSDES.csv\"ファイルから以下のようにデータフレーム`df`を作成できます。この時、csvファイルの2行目（日本語ヘッダ）は`skiprows=[1]`で読み飛ばしています。\n",
    "```Python\n",
    "df = pd.read_csv('SSDSE.csv',  skiprows=[1])\n",
    "```\n",
    "\n",
    "各市町村の高齢化率の値を含む列`aging_rate`を以下のようにデータフレーム `df`に追加することができます。\n",
    "```Python\n",
    "df['aging_rate']=df['A1303']*100/df['A1101'] \n",
    "```"
   ]
  },
  {
   "cell_type": "code",
   "execution_count": null,
   "metadata": {},
   "outputs": [],
   "source": [
    "import pandas as pd\n",
    "def aging_rate_stat(pref):\n",
    "    ### 関数を完成させてください ###"
   ]
  },
  {
   "cell_type": "markdown",
   "metadata": {},
   "source": [
    "`aging_rate_stat`関数の引数に\"北海道\"を渡して呼び出すと、北海道の市区町村の高齢化率の平均値、中央値、最大値、最小値、分散を要素とするリストとして以下が返ってきます。\n",
    "```Python\n",
    "[\n",
    " 34.6438062489258,  # 平均値\n",
    " 34.86486486486486, # 中央値\n",
    " 48.58079837159335, #　最大値\n",
    " 20.888047842087655, # 最小値\n",
    " 30.710185874483425 # 分散（不偏）、標準分散は30.53...\n",
    "]\n",
    "```"
   ]
  },
  {
   "cell_type": "code",
   "execution_count": null,
   "metadata": {},
   "outputs": [],
   "source": [
    "aging_rate_stat(\"北海道\")"
   ]
  },
  {
   "cell_type": "markdown",
   "metadata": {},
   "source": [
    "`aging_rate_stat`関数が完成したら、各都道府県の高齢化率の記述統計（平均値、中央値、最大値、最小値、分散）を元に、高齢化の地域差について独自に考察を行ってください。その際、考察のために`pandas`, `numpy`や`matplotlib`モジュールを使用して、えられた各都道府県の高齢化率の記述統計をさらに独自に分析して考察の材料としてください。"
   ]
  },
  {
   "cell_type": "code",
   "execution_count": null,
   "metadata": {},
   "outputs": [],
   "source": [
    "import pandas as pd\n",
    "import numpy as np\n",
    "import matplotlib.pyplot as plt\n",
    "\n",
    "df = pd.read_csv('SSDSE.csv',  skiprows=[1])\n",
    "for pref in df['prefecture'].unique():\n",
    "    print(pref, aging_rate_stat(pref)) # 各都道府県の高齢化率の記述統計\n",
    "    \n",
    "    ### 考察に必要な分析のためのコード ###"
   ]
  }
 ],
 "metadata": {
  "kernelspec": {
   "display_name": "Python 3",
   "language": "python",
   "name": "python3"
  },
  "language_info": {
   "codemirror_mode": {
    "name": "ipython",
    "version": 3
   },
   "file_extension": ".py",
   "mimetype": "text/x-python",
   "name": "python",
   "nbconvert_exporter": "python",
   "pygments_lexer": "ipython3",
   "version": "3.6.8"
  }
 },
 "nbformat": 4,
 "nbformat_minor": 2
}
