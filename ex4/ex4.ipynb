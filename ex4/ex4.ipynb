{
 "cells": [
  {
   "cell_type": "markdown",
   "metadata": {},
   "source": [
    "# 課題4 データの前処理と可視化\n",
    "\n",
    "配点\n",
    "- Q1.1, 1P\n",
    "- Q2.1, 1P\n",
    "- Q2.2, 2P\n",
    "- Q2.3 1P\n",
    "- Q3, 1P\n",
    "- Q4, 1P\n",
    "- Q5.1, 2P \n",
    "- Q5.2, 1P"
   ]
  },
  {
   "cell_type": "code",
   "execution_count": null,
   "metadata": {},
   "outputs": [],
   "source": [
    "# 必要なモジュールの読み込み\n",
    "import pandas as pd\n",
    "import numpy as np\n",
    "import matplotlib.pyplot as plt\n",
    "%matplotlib inline"
   ]
  },
  {
   "cell_type": "markdown",
   "metadata": {},
   "source": [
    "## Q1 欠損値の処理\n",
    "### 欠損値の検出\n",
    "pandasのシリーズやデータフレームではデータに欠損値（例えば数値データ内の空値）が含まれる場合、欠損値が`NaN`となります。以下では欠損値（空値）を含む得点データのcsvファイル, 'score_missing.csv', を読み込み、データフレーム`score`を作成します。"
   ]
  },
  {
   "cell_type": "code",
   "execution_count": null,
   "metadata": {},
   "outputs": [],
   "source": [
    "score = pd.read_csv('score_missing.csv')\n",
    "score"
   ]
  },
  {
   "cell_type": "markdown",
   "metadata": {},
   "source": [
    "データフレームに欠損値が含まれるかどうかはpandasの`isnull()`メソッドを使うと調べることができます。`isnull()`メソッドはデータフレームの各要素の値について、欠損値であれば`True`、欠損値でなければ`False`を要素としたデータフレームを返します。\n",
    "\n",
    "`isnull()`メソッドの詳細は以下を参照してください。\n",
    "\n",
    "[isnull()](https://pandas.pydata.org/pandas-docs/stable/generated/pandas.isnull.html#pandas.isnull)"
   ]
  },
  {
   "cell_type": "code",
   "execution_count": null,
   "metadata": {},
   "outputs": [],
   "source": [
    "score.isnull()"
   ]
  },
  {
   "cell_type": "markdown",
   "metadata": {},
   "source": [
    "`isnull()`メソッドで返された上記のデータフレームの`any()`メソッド使うと、データフレームにおいて欠損値を含む行または列を調べることができます。以下では、列ごとに欠損値を含むかどうかを示すシリーズオブジェクトを返します。"
   ]
  },
  {
   "cell_type": "code",
   "execution_count": null,
   "metadata": {},
   "outputs": [],
   "source": [
    "# 列ごとに欠損値があるか調べる\n",
    "score.isnull().any()"
   ]
  },
  {
   "cell_type": "markdown",
   "metadata": {},
   "source": [
    "上記で`any()メソッド`の引数`axix`を1とすると、行ごとに欠損値を含むかどうかを示すシリーズオブジェクトを返します。"
   ]
  },
  {
   "cell_type": "code",
   "execution_count": null,
   "metadata": {},
   "outputs": [],
   "source": [
    "# 行ごとに欠損値があるか調べる\n",
    "score.isnull().any(axis=1)"
   ]
  },
  {
   "cell_type": "markdown",
   "metadata": {},
   "source": [
    "上記のシリーズオブジェクトを以下のようデータフレーム抽出の条件として用いると、元のデータフレームから欠損値を含む行または列からなるデータフレームを抽出できます。"
   ]
  },
  {
   "cell_type": "code",
   "execution_count": null,
   "metadata": {},
   "outputs": [],
   "source": [
    "# データフレームから欠損値を含む行を抽出\n",
    "score[score.isnull().any(axis=1)]"
   ]
  },
  {
   "cell_type": "code",
   "execution_count": null,
   "metadata": {},
   "outputs": [],
   "source": [
    "# データフレームから欠損値を含む列を抽出\n",
    "score.loc[:, score.isnull().any()]"
   ]
  },
  {
   "cell_type": "markdown",
   "metadata": {},
   "source": [
    "### 欠損値の削除\n",
    "pandasの`dropna()`メソッドを使うと欠損値を含む行を削除することができます。`dropna()`メソッドでは、この他にもさまざまな方法で欠損値を削除することができます。詳細は以下を参照してください。\n",
    "\n",
    "[dropna()](https://pandas.pydata.org/pandas-docs/stable/generated/pandas.DataFrame.dropna.html)"
   ]
  },
  {
   "cell_type": "code",
   "execution_count": null,
   "metadata": {},
   "outputs": [],
   "source": [
    "score.dropna()"
   ]
  },
  {
   "cell_type": "markdown",
   "metadata": {},
   "source": [
    "### 欠損値の補完\n",
    "pandasの`fillna()`メソッドを使うと欠損値を補完することができます。以下では、欠損値が含まれる列の欠損がない要素の値の平均値でその列にある欠損値を補完しています。`fillna()`メソッドでは、この他にもさまざまな方法で欠損値を補完することができます。詳細は以下を参照してください。\n",
    "\n",
    "[fillna()](https://pandas.pydata.org/pandas-docs/stable/generated/pandas.DataFrame.fillna.html)"
   ]
  },
  {
   "cell_type": "code",
   "execution_count": null,
   "metadata": {},
   "outputs": [],
   "source": [
    "score = pd.read_csv('score_missing.csv')\n",
    "score.fillna(score.mean())"
   ]
  },
  {
   "cell_type": "markdown",
   "metadata": {},
   "source": [
    "### Q1.1\n",
    "欠損値（空値）を含む得点データのcsvファイル, 'score_missing.csv', を読み込み作成したデータフレームを受け取り、各列の欠損値をその列の欠損がない要素の値の中央値で補完したデータフレームを返す`fill_median()`関数を完成させてください。"
   ]
  },
  {
   "cell_type": "code",
   "execution_count": null,
   "metadata": {},
   "outputs": [],
   "source": [
    "score = pd.read_csv('score_missing.csv') # csvファイル読み込み\n",
    "def fill_median(df):\n",
    "    return ### データフレームの各列の欠損値をその列の中央値で補完するコード ###\n",
    "fill_median(score) # 関数呼び出して補完されたデータフレームを表示"
   ]
  },
  {
   "cell_type": "markdown",
   "metadata": {},
   "source": [
    "`fill_median()`関数が完成したら、以下のセルを実行してデータフレームのすべての要素の和を求めることで動作を確認してください。すべての要素の和は`2013`となります。"
   ]
  },
  {
   "cell_type": "code",
   "execution_count": null,
   "metadata": {},
   "outputs": [],
   "source": [
    "fill_median(score).sum().sum()"
   ]
  },
  {
   "cell_type": "markdown",
   "metadata": {},
   "source": [
    "## Q2 外れ値の処理\n",
    "### NumPyでの記述統計\n",
    "以下では、次のような形式の\"exam_score.csv\"ファイルを読み込み、NumPyの配列を作成し、NumPyの関数または`ndarray`オブジェクトのメソッドを用いて、配列の記述統計を求めています。\n",
    "```Python\n",
    "## exam_score.csvファイル\n",
    "kokugo, shakai, sugaku, rika\n",
    "30, 43, 51, 63\n",
    "39, 21, 49, 56\n",
    "...\n",
    "```"
   ]
  },
  {
   "cell_type": "code",
   "execution_count": 13,
   "metadata": {},
   "outputs": [],
   "source": [
    "# csvファイルからNumPy配列の作成\n",
    "score = np.loadtxt(\"exam_score.csv\", delimiter=\",\", skiprows=1)"
   ]
  },
  {
   "cell_type": "code",
   "execution_count": 14,
   "metadata": {},
   "outputs": [
    {
     "name": "stdout",
     "output_type": "stream",
     "text": [
      "[52.3313253  39.60240964 45.61445783 49.88554217]\n",
      "[473.93239222 457.60095805 583.85135724 455.54714037]\n",
      "[53. 35. 43. 49.]\n",
      "[ 96.  90. 100. 100.]\n",
      "[0. 4. 0. 9.]\n"
     ]
    }
   ],
   "source": [
    "# NumPyの関数で配列の各列の平均、分散、中央値、最大、最小を求める\n",
    "print(np.mean(score, axis=0)) # 平均\n",
    "print(np.var(score, axis=0)) # 分散\n",
    "print(np.median(score, axis=0)) # 中央値\n",
    "print(np.amax(score, axis=0)) # 最大値\n",
    "print(np.amin(score, axis=0)) # 最小値"
   ]
  },
  {
   "cell_type": "code",
   "execution_count": 15,
   "metadata": {},
   "outputs": [
    {
     "name": "stdout",
     "output_type": "stream",
     "text": [
      "[52.3313253  39.60240964 45.61445783 49.88554217]\n",
      "[473.93239222 457.60095805 583.85135724 455.54714037]\n",
      "[ 96.  90. 100. 100.]\n",
      "[0. 4. 0. 9.]\n"
     ]
    }
   ],
   "source": [
    "# ndarrayのメソッドで配列の各列の平均、分散、最大、最小を求める\n",
    "print(score.mean(0)) # 平均\n",
    "print(score.var(0)) # 分散\n",
    "print(score.max(0)) # 最大値\n",
    "print(score.min(0)) # 最小値"
   ]
  },
  {
   "cell_type": "markdown",
   "metadata": {},
   "source": [
    "### Q2.1\n",
    "整数を要素とする任意の長さの1次元配列を入力として受け取り、配列の要素の値の中で、以下の外れ値の基準にあてはまる要素からなる1次元配列を返す`find_outliers()`関数を完成させてください。なお、IQRは四分位範囲であり、第3四分位から第1四分位を引いた値です。\n",
    "- （第1四分位-1.5IQR）を値の下限としてそれより小さい値は外れ値とする\n",
    "- （第3四分位+1.5IQR）を値の上限としてそれより大きい値は外れ値とする\n",
    "\n",
    "配列の第1四分位と第3四分位は、NumPyの`percentile()`関数を用いて以下のように求められる。\n",
    "```Python\n",
    "第1四分位, 第3四分位=np.percentile(配列, [25, 75])\n",
    "```"
   ]
  },
  {
   "cell_type": "code",
   "execution_count": null,
   "metadata": {},
   "outputs": [],
   "source": [
    "def find_outliers(input_array):\n",
    "    q1, q3 = ### 入力の第1四分位q1, 第3四分位q3を求めるコード ###\n",
    "    iqr = ### 四分位範囲を求めるコード ###\n",
    "    lower = ### 下限値を求めるコード ###\n",
    "    upper = ### 上限値を求めるコード ###\n",
    "    return  ### 下限より小さい値と上限より大きい値を外れ値としてそれらを要素する配列を抽出するコード ###"
   ]
  },
  {
   "cell_type": "markdown",
   "metadata": {},
   "source": [
    "`find_outliers()`関数が完成したら、以下のセルを実行して動作を確認してください。`[-100, 200, 1000]`が外れ値の配列です。"
   ]
  },
  {
   "cell_type": "code",
   "execution_count": null,
   "metadata": {},
   "outputs": [],
   "source": [
    "find_outliers(np.array([30,39,-100,29,95,70,67,200,29,1000,56,45,68]))"
   ]
  },
  {
   "cell_type": "markdown",
   "metadata": {},
   "source": [
    "### Q2.2\n",
    "以下のような形式の\"score_outlier.csv\"ファイルを読み込み、データフレーム`score`を作成します。\n",
    "```Python\n",
    "## score_outlier.csvファイル\n",
    "kokugo, shakai, sugaku, rika\n",
    "30, 43, 51, 63\n",
    "39, 21, 49, 56\n",
    "...\n",
    "```\n",
    "`score`を受け取り、各列ごとに、Q2.1と同様に四分位範囲, 第3四分位, 第1四分位を用いて外れ値を検出し、外れ値を含む行を除いたデータフレームを返す関数`drop_outliers()`を完成させてください。データフレームの各列の第1四分位と第3四分位は、pandasの`describe()`関数を用いて以下のように求められる。\n",
    "```Python\n",
    "第1四分位 = データフレーム[列名].describe()['25%']\n",
    "第3四分位 = データフレーム[列名].describe()['75%']\n",
    "```"
   ]
  },
  {
   "cell_type": "code",
   "execution_count": null,
   "metadata": {},
   "outputs": [],
   "source": [
    "score = pd.read_csv('score_outlier.csv') # csvファイル読み込み\n",
    "def drop_outliers(df):\n",
    "    ...\n",
    "    return ### 各列がその列の下限値以上かつ上限以内の値であるデータフレーム ###\n",
    "\n",
    "drop_outliers(score).head(10)  # 関数呼び出して外れた値を含む行を除いたデータフレームを表示"
   ]
  },
  {
   "cell_type": "markdown",
   "metadata": {},
   "source": [
    "`drop_outliers()`関数が完成したら、以下のセルを実行して外れ値を含む行を除いたデータフレームの行数を求めることで動作を確認してください。行数は`155`となります。"
   ]
  },
  {
   "cell_type": "code",
   "execution_count": null,
   "metadata": {},
   "outputs": [],
   "source": [
    "len(drop_outliers(score).index)"
   ]
  },
  {
   "cell_type": "markdown",
   "metadata": {},
   "source": [
    "### Q2.3\n",
    "`matplotlib`では、以下のようにして複数の1次配列を入力として、それぞれを箱ひげ図として同時に可視化することができます。\n",
    "```Python\n",
    "plt.boxplot([配列1, 配列2, 配列3, ....], showmeans=True);\n",
    "```\n",
    "\"score_outlier.csv\"ファイルを読み込み、NumPyの配列を作成し、各教科の点数の箱ひげ図を可視化してください。"
   ]
  },
  {
   "cell_type": "code",
   "execution_count": null,
   "metadata": {},
   "outputs": [],
   "source": [
    "# csvファイルからNumPy配列の作成\n",
    "score = np.loadtxt(\"score_outlier.csv\", delimiter=\",\", skiprows=1)\n",
    "plt.boxplot([### 各教科の点数の配列を指定するコード ###], showmeans=True);"
   ]
  },
  {
   "cell_type": "markdown",
   "metadata": {},
   "source": [
    "## Q3 標準化\n",
    "以下のような形式の\"exam_score.csv\"ファイルを読み込み、作成したNumPyの配列を受け取り、各教科の点数をその教科の平均値と分散を用いて標準化した配列を返す`normalize_score()`関数を完成させてください。平均値と分散の計算には、NumPyの関数またはndarrayオブジェクトのメソッド、どちらを使ってもよいです。また、分散は標本分散としてください。\n",
    "```Python\n",
    "## exam_score.csvファイル\n",
    "kokugo, shakai, sugaku, rika\n",
    "30, 43, 51, 63\n",
    "39, 21, 49, 56\n",
    "...\n",
    "```\n",
    "\n",
    "配列の列ごとに関数やメソッドを適用するには以下のように`axis`引数を0とする。\n",
    "```Python\n",
    "np.mean(配列, axis=0)\n",
    "配列.mean(axis=0)\n",
    "```\n",
    "また、配列の元の次元を保持したい場合は`keepdims`引数をTrueとする。\n",
    "```Python\n",
    "np.mean(配列, axis=0, keepdims=True)\n",
    "配列.mean(axis=0, keepdims=True)\n",
    "```"
   ]
  },
  {
   "cell_type": "code",
   "execution_count": null,
   "metadata": {},
   "outputs": [],
   "source": [
    "# csvファイルからNumPy配列の作成\n",
    "score = np.loadtxt(\"exam_score.csv\", delimiter=\",\", skiprows=1)\n",
    "def normalize_score(a):\n",
    "    return ### 配列aの各列をその列の平均値と分散を用いて標準化した配列を求めるコード ###\n",
    "normalize_score(score) # 関数呼び出して標準化された配列を表示"
   ]
  },
  {
   "cell_type": "markdown",
   "metadata": {},
   "source": [
    "`normalize_score()`関数が完成したら、以下のセルを実行して標準化された`score`配列のすべての要素の和を求めることで動作を確認してください。すべての要素の和は`1.4210854715202004e-14`となります。"
   ]
  },
  {
   "cell_type": "code",
   "execution_count": null,
   "metadata": {},
   "outputs": [],
   "source": [
    "normalize_score(score).sum()"
   ]
  },
  {
   "cell_type": "markdown",
   "metadata": {},
   "source": [
    "### 参考\n",
    "pandasでは以下のようにしてデータフレームの各列をその列の平均値と分散を用いて標準化できます。"
   ]
  },
  {
   "cell_type": "code",
   "execution_count": null,
   "metadata": {},
   "outputs": [],
   "source": [
    "score_df = pd.read_csv('exam_score.csv')\n",
    "((score_df - score_df.mean()) / score_df.std(ddof=0)).head(5)"
   ]
  },
  {
   "cell_type": "markdown",
   "metadata": {},
   "source": [
    "## Q4 ヒストグラム\n",
    "`matplotlib`では、以下のように1次配列を入力として、ヒストグラムを可視化することができます。\n",
    "```Python\n",
    "plt.hist(配列, bins=階級数);\n",
    "```\n",
    "\"exam_score.csv\"ファイルを読み込み、NumPyの配列を作成し、数学（3列目）の点数のヒストグラムを可視化してください。その際、階級数は任意に設定してください。"
   ]
  },
  {
   "cell_type": "code",
   "execution_count": null,
   "metadata": {},
   "outputs": [],
   "source": [
    "# csvファイルからNumPy配列の作成\n",
    "score = np.loadtxt(\"exam_score.csv\", delimiter=\",\", skiprows=1)\n",
    "plt.hist(### 数学の点数の配列, bins=階級数 ###);"
   ]
  },
  {
   "cell_type": "markdown",
   "metadata": {},
   "source": [
    "### 参考\n",
    "平均=muと標準偏差=stdの時の正規分布に従うランダムな値からなる配列を入力とするヒストグラム"
   ]
  },
  {
   "cell_type": "code",
   "execution_count": null,
   "metadata": {},
   "outputs": [],
   "source": [
    "mu, std = 0, 1\n",
    "nor = np.random.normal(mu, std,200)\n",
    "plt.hist(nor, bins=20);"
   ]
  },
  {
   "cell_type": "markdown",
   "metadata": {},
   "source": [
    "## Q5 相関\n",
    "### Q5.1\n",
    "整数を要素とする同じ長さの2つの1次元配列を入力として受け取り、それらの配列の要素の相関係数を返す`correlation()`関数を完成させてください。2つの配列は先頭から順にそれぞれの要素が対応するものとします。それぞれの配列の対応する要素の値を$x_{i}, y_{i}$とすると、相関係数は以下のように求められます。\n",
    "\n",
    "$\\frac{1}{n}\\Sigma^{n}_{i=1}(\\frac{x_{i}-\\overline{x}}{s_{x}})(\\frac{y_{i}-\\overline{y}}{s_{y}})$\n",
    "\n",
    "$\\overline{x}, \\overline{y}$は平均、$s_{x}, s_{y}$は標準偏差です。"
   ]
  },
  {
   "cell_type": "code",
   "execution_count": null,
   "metadata": {},
   "outputs": [],
   "source": [
    "def correlation(x, y):\n",
    "    return ### 配列xと配列yの相関係数を計算するコード ###"
   ]
  },
  {
   "cell_type": "markdown",
   "metadata": {},
   "source": [
    "`correlation()`関数が完成したら、以下のセルを実行して動作を確認してください。それぞれ相関係数は`1`,`-1`となります"
   ]
  },
  {
   "cell_type": "code",
   "execution_count": null,
   "metadata": {},
   "outputs": [],
   "source": [
    "correlation(np.array([-1,1]),np.array([ -1, 1]))"
   ]
  },
  {
   "cell_type": "code",
   "execution_count": null,
   "metadata": {},
   "outputs": [],
   "source": [
    "correlation(np.array([1,-1]),np.array([-1, 1]))"
   ]
  },
  {
   "cell_type": "markdown",
   "metadata": {},
   "source": [
    "### Q5.2\n",
    "以下のような形式の\"exam_score.csv\"ファイルを読み込み、数学と理科の点数の関係を散布図として可視化してください。\n",
    "```Python\n",
    "## exam_score.csvファイル\n",
    "kokugo, shakai, sugaku, rika\n",
    "30, 43, 51, 63\n",
    "39, 21, 49, 56\n",
    "...\n",
    "```\n",
    "`matplotlib`では、以下のように2つの1次配列を入力として、散布図を可視化することができます。\n",
    "```Python\n",
    "plt.plot(配列1, 配列2, 'o');\n",
    "```"
   ]
  },
  {
   "cell_type": "code",
   "execution_count": null,
   "metadata": {},
   "outputs": [],
   "source": [
    "# csvファイルからNumPy配列の作成\n",
    "score = np.loadtxt(\"exam_score.csv\", delimiter=\",\", skiprows=1)\n",
    "plt.plot(### 数学の点数の配列, 理科の点数の配列 ###, 'o');"
   ]
  },
  {
   "cell_type": "markdown",
   "metadata": {},
   "source": [
    "### 参考\n",
    "NumPyの`corrcoef()`関数を使うと2つの配列の共分散行列を以下のように求めることができます。"
   ]
  },
  {
   "cell_type": "code",
   "execution_count": null,
   "metadata": {},
   "outputs": [],
   "source": [
    "score = np.loadtxt(\"exam_score.csv\", delimiter=\",\", skiprows=1)\n",
    "np.corrcoef(score[:,0], score[:,1])"
   ]
  },
  {
   "cell_type": "markdown",
   "metadata": {},
   "source": [
    "pandasのcorrメソッドを使うとデータフレームの列間の相関係数を以下のように求めることができます。"
   ]
  },
  {
   "cell_type": "code",
   "execution_count": null,
   "metadata": {},
   "outputs": [],
   "source": [
    "score = pd.read_csv(\"exam_score.csv\", sep=\",\")\n",
    "score.corr(method='pearson')"
   ]
  },
  {
   "cell_type": "markdown",
   "metadata": {},
   "source": [
    "これらの相関係数の大小に基づいて以下のように列間の相関の大小をヒートマップとして可視化することができます。"
   ]
  },
  {
   "cell_type": "code",
   "execution_count": null,
   "metadata": {},
   "outputs": [],
   "source": [
    "plt.colorbar(plt.imshow(score.corr(method='pearson')));"
   ]
  }
 ],
 "metadata": {
  "kernelspec": {
   "display_name": "Python 3",
   "language": "python",
   "name": "python3"
  },
  "language_info": {
   "codemirror_mode": {
    "name": "ipython",
    "version": 3
   },
   "file_extension": ".py",
   "mimetype": "text/x-python",
   "name": "python",
   "nbconvert_exporter": "python",
   "pygments_lexer": "ipython3",
   "version": "3.7.3"
  }
 },
 "nbformat": 4,
 "nbformat_minor": 2
}
