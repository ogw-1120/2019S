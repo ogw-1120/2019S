{
 "cells": [
  {
   "cell_type": "markdown",
   "metadata": {},
   "source": [
    "# 課題10\n",
    "\n",
    "配点\n",
    "- Q1 10P"
   ]
  },
  {
   "cell_type": "code",
   "execution_count": 2,
   "metadata": {},
   "outputs": [],
   "source": [
    "import pandas as pd\n",
    "import numpy as  np\n",
    "import matplotlib.pyplot  as plt\n",
    "%matplotlib inline\n",
    "import seaborn as sns\n",
    "from sklearn.preprocessing import StandardScaler\n",
    "from sklearn.preprocessing import PolynomialFeatures\n",
    "from sklearn.linear_model import LinearRegression\n",
    "from sklearn.linear_model import Ridge\n",
    "from sklearn.pipeline import make_pipeline\n",
    "from sklearn.model_selection import train_test_split\n",
    "from sklearn.model_selection import cross_val_score\n",
    "from sklearn.model_selection import StratifiedKFold\n",
    "from sklearn.model_selection import GridSearchCV\n",
    "from sklearn.model_selection import learning_curve\n",
    "from sklearn.model_selection import validation_curve\n",
    "from sklearn.metrics import mean_squared_error"
   ]
  },
  {
   "cell_type": "markdown",
   "metadata": {},
   "source": [
    "## Q1\n",
    "データ分析の実践のノートブックで使用したデータセットについて、特徴量の選択、特徴量の変換や組み合わせによる新たな特徴量の作成、などを行い、それらの特徴量を用いたモデルの学習と評価を行ってください。モデルは`LinearRegression`を使ってください。\n",
    "\n",
    "どのような着想の元で特徴量の選択や作成を行ったのかについても報告してください。\n",
    "\n",
    "以下では例として、`alcohol`と`sulphates`の特徴量に加えて、それらの特徴量を掛け合わせた交差項となる特徴量を新たに作成し、これらの特徴量を用いてモデルの学習と交差検証による評価を行っています。"
   ]
  },
  {
   "cell_type": "code",
   "execution_count": 14,
   "metadata": {},
   "outputs": [],
   "source": [
    "wine = pd.read_csv(\"winequality-red.csv\", sep=\";\")"
   ]
  },
  {
   "cell_type": "code",
   "execution_count": 15,
   "metadata": {},
   "outputs": [
    {
     "name": "stdout",
     "output_type": "stream",
     "text": [
      "0.49086155249695756\n"
     ]
    }
   ],
   "source": [
    "X=wine[ ['sulphates', 'alcohol']].values\n",
    "y=wine[['quality']].values\n",
    "\n",
    "# 標準化と線形回帰モデルのパイプライン\n",
    "pipe=make_pipeline(StandardScaler(), LinearRegression())\n",
    "\n",
    "# 交差検証\n",
    "scores = cross_val_score(pipe, X, y, scoring='neg_mean_squared_error', cv=10)\n",
    "print( -scores.mean()) # 平均二乗誤差"
   ]
  },
  {
   "cell_type": "code",
   "execution_count": 16,
   "metadata": {},
   "outputs": [
    {
     "name": "stdout",
     "output_type": "stream",
     "text": [
      "0.47984643105104763\n"
     ]
    }
   ],
   "source": [
    "X=wine[ ['sulphates', 'alcohol']].values\n",
    "y=wine[['quality']].values\n",
    "\n",
    "# 'sulphates'と'alcohol'の交差項となる特徴量\n",
    "new_feature=X[:,0]*X[:,1]\n",
    "\n",
    "#  特徴量の追加\n",
    "X=np.insert(X, 0, new_feature, axis=1)\n",
    "\n",
    "# 標準化と線形回帰モデルのパイプライン\n",
    "pipe=make_pipeline(StandardScaler(), LinearRegression())\n",
    "\n",
    "# 交差検証\n",
    "scores = cross_val_score(pipe, X, y, scoring='neg_mean_squared_error', cv=10)\n",
    "print( -scores.mean()) # 平均二乗誤差"
   ]
  },
  {
   "cell_type": "code",
   "execution_count": 17,
   "metadata": {},
   "outputs": [],
   "source": [
    "### このセルにコードを記入してください ###"
   ]
  },
  {
   "cell_type": "markdown",
   "metadata": {},
   "source": [
    "このマークダウンセルに説明を記入してください（セルをダブルクリックすると編集できます）"
   ]
  }
 ],
 "metadata": {
  "kernelspec": {
   "display_name": "Python 3",
   "language": "python",
   "name": "python3"
  },
  "language_info": {
   "codemirror_mode": {
    "name": "ipython",
    "version": 3
   },
   "file_extension": ".py",
   "mimetype": "text/x-python",
   "name": "python",
   "nbconvert_exporter": "python",
   "pygments_lexer": "ipython3",
   "version": "3.7.3"
  }
 },
 "nbformat": 4,
 "nbformat_minor": 2
}
